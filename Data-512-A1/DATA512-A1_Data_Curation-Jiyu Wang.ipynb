{
 "cells": [
  {
   "cell_type": "markdown",
   "metadata": {},
   "source": [
    "# DATA512_A1_Data_Curation\n",
    "Jiyu Wang"
   ]
  },
  {
   "cell_type": "markdown",
   "metadata": {},
   "source": [
    "In this assignment, we collected wikipedia page traffic data with API and performed preprocessing as well as data visualization."
   ]
  },
  {
   "cell_type": "markdown",
   "metadata": {},
   "source": [
    "First import some necessary python libraries..."
   ]
  },
  {
   "cell_type": "code",
   "execution_count": 1,
   "metadata": {},
   "outputs": [],
   "source": [
    "import pandas as pd\n",
    "import numpy as np\n",
    "import os\n",
    "import requests\n",
    "import json\n",
    "import matplotlib.pyplot as plt\n",
    "%matplotlib inline"
   ]
  },
  {
   "cell_type": "markdown",
   "metadata": {},
   "source": [
    "## Data Collection"
   ]
  },
  {
   "cell_type": "markdown",
   "metadata": {},
   "source": [
    "We will use two different API endpoints, the Legacy Pagecounts API and the Pageviews API, to collect page traffic data from Wikipedia.\n",
    "\n",
    "The function to call api requires an endpoint and corresponding parameters:"
   ]
  },
  {
   "cell_type": "code",
   "execution_count": 2,
   "metadata": {},
   "outputs": [],
   "source": [
    "def api_call(endpoint,parameters):\n",
    "    call = requests.get(endpoint.format(**parameters), headers=headers)\n",
    "    response = call.json()\n",
    "    \n",
    "    return response"
   ]
  },
  {
   "cell_type": "markdown",
   "metadata": {},
   "source": [
    "The URLs of two API endpoints are:"
   ]
  },
  {
   "cell_type": "code",
   "execution_count": 3,
   "metadata": {},
   "outputs": [],
   "source": [
    "ENDPOINT_LEGACY = 'https://wikimedia.org/api/rest_v1/metrics/legacy/pagecounts/aggregate/{project}/{access-site}/{granularity}/{start}/{end}'\n",
    "ENDPOINT_PAGEVIEWS = 'https://wikimedia.org/api/rest_v1/metrics/pageviews/aggregate/{project}/{access}/{agent}/{granularity}/{start}/{end}'"
   ]
  },
  {
   "cell_type": "markdown",
   "metadata": {},
   "source": [
    "We can pre-set some common parameters shared by these two APIs and also create directories to store output:"
   ]
  },
  {
   "cell_type": "code",
   "execution_count": 4,
   "metadata": {},
   "outputs": [],
   "source": [
    "# common parameters\n",
    "common_params = {\"project\" : \"en.wikipedia.org\",\n",
    "                 \"granularity\" : \"monthly\"}\n",
    "\n",
    "headers = {\n",
    "    'User-Agent': 'https://github.com/jiyuw',\n",
    "    'From': 'jiyuw@uw.edu'\n",
    "}\n",
    "\n",
    "# output dir\n",
    "jsons_dir = 'JSON/'\n",
    "csv_dir = 'CSV/'\n",
    "if not os.path.exists(jsons_dir):\n",
    "    os.mkdir(jsons_dir)\n",
    "if not os.path.exists(csv_dir):\n",
    "    os.mkdir(csv_dir)"
   ]
  },
  {
   "cell_type": "markdown",
   "metadata": {},
   "source": [
    "* Collecting data with Legacy Pagecounts API\n",
    "\n",
    "The get_legacy_data adds specific parameters and calls the api_call function to request data. The json-style output is stored in the json directory."
   ]
  },
  {
   "cell_type": "code",
   "execution_count": 5,
   "metadata": {},
   "outputs": [],
   "source": [
    "# legacy\n",
    "def get_legacy_data(access, start, end):\n",
    "    params_legacy = {\"access-site\" : access,\n",
    "                     \"start\" : start,\n",
    "                     \"end\" : end}\n",
    "    params_legacy.update(common_params)\n",
    "    data = api_call(ENDPOINT_LEGACY, params_legacy)\n",
    "    filename = f\"pagecounts_{access}_{start[:-4]}-{end[:-4]}.json\"\n",
    "    with open(jsons_dir+filename, 'w', encoding='utf-8') as f:\n",
    "        f.write(json.dumps(data['items'], indent=2))\n",
    "    print(f\"legacy file {filename} created\")\n",
    "    return filename"
   ]
  },
  {
   "cell_type": "markdown",
   "metadata": {},
   "source": [
    "Set legacy-specific parameters: two types of access, December 2007 as the start month, and July 2016 as the end month.\n",
    "\n",
    "Loop through list of parameters to collect all types of data and store the file names into a list for further analysis"
   ]
  },
  {
   "cell_type": "code",
   "execution_count": 6,
   "metadata": {},
   "outputs": [
    {
     "name": "stdout",
     "output_type": "stream",
     "text": [
      "legacy file pagecounts_desktop-site_200712-201608.json created\n",
      "legacy file pagecounts_mobile-site_200712-201608.json created\n"
     ]
    }
   ],
   "source": [
    "# legacy-specific parameters\n",
    "legacy_access = [\"desktop-site\", \"mobile-site\"]\n",
    "legacy_start = \"2007120100\"\n",
    "legacy_end = \"2016080100\"\n",
    "\n",
    "# save data with different parameters in a list\n",
    "legacy_files = []\n",
    "for access in legacy_access:\n",
    "    legacy_files.append(get_legacy_data(access, legacy_start, legacy_end))"
   ]
  },
  {
   "cell_type": "markdown",
   "metadata": {},
   "source": [
    "* Collecting data with Pageviews API\n",
    "\n",
    "The get_pageviews_data adds specific parameters and calls the api_call function to request data. The json-style output is stored in the json directory."
   ]
  },
  {
   "cell_type": "code",
   "execution_count": 7,
   "metadata": {},
   "outputs": [],
   "source": [
    "# pageviews\n",
    "def get_pageviews_data(access, start, end):\n",
    "    params_pageviews = {\"access\" : access,\n",
    "                        \"agent\" : \"user\",\n",
    "                        \"start\" : start,\n",
    "                        \"end\" : end}\n",
    "    params_pageviews.update(common_params)\n",
    "    data = api_call(ENDPOINT_PAGEVIEWS, params_pageviews)\n",
    "    filename = f\"pageviews_{access}_{start[:-4]}-{end[:-4]}.json\"\n",
    "    with open(jsons_dir+filename, 'w', encoding='utf-8') as f:\n",
    "        f.write(json.dumps(data['items'], indent=2))\n",
    "    print(f\"pageviews file {filename} created\")\n",
    "    return filename"
   ]
  },
  {
   "cell_type": "markdown",
   "metadata": {},
   "source": [
    "Set pageview-specific parameters: three types of access, July 2015 as the start month, and September 2020 as the end month.\n",
    "\n",
    "Loop through list of parameters to collect all types of data and store the file names into a list for further analysis"
   ]
  },
  {
   "cell_type": "code",
   "execution_count": 8,
   "metadata": {},
   "outputs": [
    {
     "name": "stdout",
     "output_type": "stream",
     "text": [
      "pageviews file pageviews_desktop_201507-202010.json created\n",
      "pageviews file pageviews_mobile-app_201507-202010.json created\n",
      "pageviews file pageviews_mobile-web_201507-202010.json created\n"
     ]
    }
   ],
   "source": [
    "# pageview-specific parameters\n",
    "pageviews_access = [\"desktop\", \"mobile-app\", \"mobile-web\"]\n",
    "pageviews_start = \"2015070100\"\n",
    "pageviews_end = \"2020100100\"\n",
    "\n",
    "# save data with different parameters in a list\n",
    "pageviews_files = []\n",
    "for access in pageviews_access:\n",
    "    pageviews_files.append(get_pageviews_data(access, pageviews_start, pageviews_end))"
   ]
  },
  {
   "cell_type": "markdown",
   "metadata": {},
   "source": [
    "## Data Processing"
   ]
  },
  {
   "cell_type": "markdown",
   "metadata": {},
   "source": [
    "The collected json-style data will be converted to dataframes and merged to form a final csv file.\n",
    "\n",
    "The columns in the final csv file are:\n",
    "- year\n",
    "- month\n",
    "- pagecount_all_views\n",
    "- pagecount_desktop_views\n",
    "- pagecount_mobile_views\n",
    "- pageview_all_views\n",
    "- pageview_desktop_views\n",
    "- pageview_mobile_views"
   ]
  },
  {
   "cell_type": "markdown",
   "metadata": {},
   "source": [
    "The json_to_df function takes in the json-style data file and converts into a pandas dataframe with modified column names:"
   ]
  },
  {
   "cell_type": "code",
   "execution_count": 9,
   "metadata": {},
   "outputs": [],
   "source": [
    "def json_to_df(file_name, file_dir = jsons_dir):\n",
    "    f = open(file_dir+file_name, 'r')\n",
    "    data = pd.read_json(f, orient='records', convert_dates=False)\n",
    "    api_name, access, _ = file_name.split('_')\n",
    "    new_col_name = f\"{api_name[:-1]}_{access}_views\"\n",
    "    data = data.rename(columns={'count':new_col_name, 'views':new_col_name})\n",
    "    return data[['timestamp', new_col_name]]"
   ]
  },
  {
   "cell_type": "markdown",
   "metadata": {},
   "source": [
    "Convert all files for legacy and pageviews data into dataframes by calling the json_to_df function"
   ]
  },
  {
   "cell_type": "code",
   "execution_count": 10,
   "metadata": {},
   "outputs": [],
   "source": [
    "df_ls = [json_to_df(file) for file in legacy_files+pageviews_files]"
   ]
  },
  {
   "cell_type": "markdown",
   "metadata": {},
   "source": [
    "The dataframes created are then outer joined to form a new dataframe with all columns."
   ]
  },
  {
   "cell_type": "code",
   "execution_count": 11,
   "metadata": {},
   "outputs": [],
   "source": [
    "df = df_ls.pop()\n",
    "while df_ls:\n",
    "    other = df_ls.pop()\n",
    "    df = df.merge(other, on='timestamp', how='outer', sort=True)"
   ]
  },
  {
   "cell_type": "markdown",
   "metadata": {},
   "source": [
    "The 'timestamp' column is processed to create new columns of 'year' and 'month'."
   ]
  },
  {
   "cell_type": "code",
   "execution_count": 12,
   "metadata": {},
   "outputs": [],
   "source": [
    "df['timestamp'] = pd.to_datetime(df['timestamp'], format='%Y%m%d%H')\n",
    "df['year'] = df['timestamp'].dt.year\n",
    "df['month'] = df['timestamp'].dt.month"
   ]
  },
  {
   "cell_type": "markdown",
   "metadata": {},
   "source": [
    "Fill the nan values with 0 for the counting columns."
   ]
  },
  {
   "cell_type": "code",
   "execution_count": 13,
   "metadata": {},
   "outputs": [],
   "source": [
    "df = df.fillna(0)"
   ]
  },
  {
   "cell_type": "markdown",
   "metadata": {},
   "source": [
    "For data from the Pageviews API, combine the monthly counts for mobile-web and mobile-app to create a total mobile count column."
   ]
  },
  {
   "cell_type": "code",
   "execution_count": 14,
   "metadata": {},
   "outputs": [],
   "source": [
    "df['pageview_mobile_views'] = df['pageview_mobile-web_views'] + df['pageview_mobile-app_views']\n",
    "df = df.rename(columns={'pagecount_mobile-site_views':'pagecount_mobile_views',\n",
    "                       'pagecount_desktop-site_views':'pagecount_desktop_views'})"
   ]
  },
  {
   "cell_type": "markdown",
   "metadata": {},
   "source": [
    "For data from both APIs, combine the counts for mobile and desktop to create a total count column."
   ]
  },
  {
   "cell_type": "code",
   "execution_count": 15,
   "metadata": {},
   "outputs": [],
   "source": [
    "df['pagecount_all_views'] = df['pagecount_mobile_views'] + df['pagecount_desktop_views']\n",
    "df['pageview_all_views'] = df['pageview_mobile_views'] + df['pageview_desktop_views']"
   ]
  },
  {
   "cell_type": "markdown",
   "metadata": {},
   "source": [
    "Drop unnecessary columns and re-order the rest columns to finalize the dataframe."
   ]
  },
  {
   "cell_type": "code",
   "execution_count": 16,
   "metadata": {},
   "outputs": [],
   "source": [
    "df = df.drop(columns=['timestamp', 'pageview_mobile-web_views', 'pageview_mobile-app_views'])\n",
    "df = df[['year', 'month', 'pagecount_all_views', 'pagecount_desktop_views', 'pagecount_mobile_views',\n",
    "              'pageview_all_views', 'pageview_desktop_views', 'pageview_mobile_views']]"
   ]
  },
  {
   "cell_type": "markdown",
   "metadata": {},
   "source": [
    "Save the csv file and store in the csv directory."
   ]
  },
  {
   "cell_type": "code",
   "execution_count": 17,
   "metadata": {},
   "outputs": [],
   "source": [
    "df.to_csv(csv_dir+'en-wikipedia_traffic_200712-202010.csv', index=False)"
   ]
  },
  {
   "cell_type": "markdown",
   "metadata": {},
   "source": [
    "## Analyze the data"
   ]
  },
  {
   "cell_type": "markdown",
   "metadata": {},
   "source": [
    "The created final dataframe is then used to create a visualization to compare view counts of different access types from both APIs."
   ]
  },
  {
   "cell_type": "markdown",
   "metadata": {},
   "source": [
    "The dataframe is first imported from the csv file:"
   ]
  },
  {
   "cell_type": "code",
   "execution_count": 18,
   "metadata": {},
   "outputs": [],
   "source": [
    "df = pd.read_csv(csv_dir+'en-wikipedia_traffic_200712-202010.csv')"
   ]
  },
  {
   "cell_type": "markdown",
   "metadata": {},
   "source": [
    "Combine the 'year' and 'month' columns into the 'date' column with datetime type."
   ]
  },
  {
   "cell_type": "code",
   "execution_count": 19,
   "metadata": {},
   "outputs": [],
   "source": [
    "df['date'] = pd.to_datetime(df[['year', 'month']].assign(DAY=1))"
   ]
  },
  {
   "cell_type": "markdown",
   "metadata": {},
   "source": [
    "Convert 0s in the dataset to nan values to unnecessary lines outside of our data range."
   ]
  },
  {
   "cell_type": "code",
   "execution_count": 20,
   "metadata": {},
   "outputs": [],
   "source": [
    "df = df.replace(to_replace=0, value=np.nan)"
   ]
  },
  {
   "cell_type": "markdown",
   "metadata": {},
   "source": [
    "Create the plot with the processed dataframe:\n",
    "- data from pageview API is plotted with solid lines, while data from the legacy_pagecounts API is plotted with dashed lines.\n",
    "- colors for different access types: green - desktop, blue - mobile, black - total"
   ]
  },
  {
   "cell_type": "code",
   "execution_count": 21,
   "metadata": {},
   "outputs": [
    {
     "data": {
      "image/png": "[encoded data removed]",
      "text/plain": [
       "<Figure size 1296x432 with 1 Axes>"
      ]
     },
     "metadata": {
      "needs_background": "light"
     },
     "output_type": "display_data"
    }
   ],
   "source": [
    "plt.figure(figsize=(18, 6))\n",
    "\n",
    "# count numbers are divided by 1000000, which is indicated in the title\n",
    "plt.plot(df.date, df.pageview_desktop_views/1000000, color='green', marker='', linestyle='solid')\n",
    "plt.plot(df.date, df.pageview_mobile_views/1000000, color='blue', marker='', linestyle='solid')\n",
    "plt.plot(df.date, df.pageview_all_views/1000000, color='black', marker='', linestyle='solid')\n",
    "\n",
    "plt.plot(df.date, df.pagecount_desktop_views/1000000, color='green', marker='', linestyle='dashed')\n",
    "plt.plot(df.date, df.pagecount_mobile_views/1000000, color='blue', marker='', linestyle='dashed')\n",
    "plt.plot(df.date, df.pagecount_all_views/1000000, color='black', marker='', linestyle='dashed')\n",
    "\n",
    "plt.ticklabel_format(axis='y', style='plain')\n",
    "plt.ylim([0, 12000])\n",
    "plt.grid(which='major')\n",
    "plt.title('Page Views on English Wikipedia (x 1,000,000)')\n",
    "plt.legend([\"PageView Desktop\", \"PageView Mobile\", \"PageView All\", \"PageCount Desktop\", \"PageCount Mobile\", \"PageCount All\"])\n",
    "plt.savefig('pageviews_wikipedia.png', dpi=200)"
   ]
  },
  {
   "cell_type": "markdown",
   "metadata": {},
   "source": [
    "The counts of pageview is always not larger than the counts of pagecounts, since pageview data excludes visits from spiders/crawlers.\n",
    "\n",
    "While the total page views stay approximately the same, more and more views are switching from desktop to mobile visits."
   ]
  }
 ],
 "metadata": {
  "kernelspec": {
   "display_name": "Python 3",
   "language": "python",
   "name": "python3"
  },
  "language_info": {
   "codemirror_mode": {
    "name": "ipython",
    "version": 3
   },
   "file_extension": ".py",
   "mimetype": "text/x-python",
   "name": "python",
   "nbconvert_exporter": "python",
   "pygments_lexer": "ipython3",
   "version": "3.7.0"
  }
 },
 "nbformat": 4,
 "nbformat_minor": 2
}
